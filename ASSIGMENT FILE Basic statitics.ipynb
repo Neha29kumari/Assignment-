{
 "cells": [
  {
   "cell_type": "code",
   "execution_count": 1,
   "id": "80efe2e0",
   "metadata": {},
   "outputs": [],
   "source": [
    "import pandas as pd \n",
    "import numpy as np\n",
    "import warnings \n",
    "warnings.filterwarnings ('ignore')"
   ]
  },
  {
   "cell_type": "code",
   "execution_count": 2,
   "id": "d52c483b",
   "metadata": {},
   "outputs": [
    {
     "ename": "FileNotFoundError",
     "evalue": "[Errno 2] No such file or directory: 'C:\\\\Users\\\\lenovo\\\\Downloads\\\\Q7 (2).csv'",
     "output_type": "error",
     "traceback": [
      "\u001b[1;31m---------------------------------------------------------------------------\u001b[0m",
      "\u001b[1;31mFileNotFoundError\u001b[0m                         Traceback (most recent call last)",
      "Input \u001b[1;32mIn [2]\u001b[0m, in \u001b[0;36m<cell line: 1>\u001b[1;34m()\u001b[0m\n\u001b[1;32m----> 1\u001b[0m data\u001b[38;5;241m=\u001b[39m\u001b[43mpd\u001b[49m\u001b[38;5;241;43m.\u001b[39;49m\u001b[43mread_csv\u001b[49m\u001b[43m(\u001b[49m\u001b[38;5;124;43m'\u001b[39;49m\u001b[38;5;124;43mC:\u001b[39;49m\u001b[38;5;130;43;01m\\\\\u001b[39;49;00m\u001b[38;5;124;43mUsers\u001b[39;49m\u001b[38;5;130;43;01m\\\\\u001b[39;49;00m\u001b[38;5;124;43mlenovo\u001b[39;49m\u001b[38;5;130;43;01m\\\\\u001b[39;49;00m\u001b[38;5;124;43mDownloads\u001b[39;49m\u001b[38;5;130;43;01m\\\\\u001b[39;49;00m\u001b[38;5;124;43mQ7 (2).csv\u001b[39;49m\u001b[38;5;124;43m'\u001b[39;49m\u001b[43m)\u001b[49m\n\u001b[0;32m      2\u001b[0m data\n",
      "File \u001b[1;32mC:\\ProgramData\\Anaconda3\\lib\\site-packages\\pandas\\util\\_decorators.py:311\u001b[0m, in \u001b[0;36mdeprecate_nonkeyword_arguments.<locals>.decorate.<locals>.wrapper\u001b[1;34m(*args, **kwargs)\u001b[0m\n\u001b[0;32m    305\u001b[0m \u001b[38;5;28;01mif\u001b[39;00m \u001b[38;5;28mlen\u001b[39m(args) \u001b[38;5;241m>\u001b[39m num_allow_args:\n\u001b[0;32m    306\u001b[0m     warnings\u001b[38;5;241m.\u001b[39mwarn(\n\u001b[0;32m    307\u001b[0m         msg\u001b[38;5;241m.\u001b[39mformat(arguments\u001b[38;5;241m=\u001b[39marguments),\n\u001b[0;32m    308\u001b[0m         \u001b[38;5;167;01mFutureWarning\u001b[39;00m,\n\u001b[0;32m    309\u001b[0m         stacklevel\u001b[38;5;241m=\u001b[39mstacklevel,\n\u001b[0;32m    310\u001b[0m     )\n\u001b[1;32m--> 311\u001b[0m \u001b[38;5;28;01mreturn\u001b[39;00m func(\u001b[38;5;241m*\u001b[39margs, \u001b[38;5;241m*\u001b[39m\u001b[38;5;241m*\u001b[39mkwargs)\n",
      "File \u001b[1;32mC:\\ProgramData\\Anaconda3\\lib\\site-packages\\pandas\\io\\parsers\\readers.py:680\u001b[0m, in \u001b[0;36mread_csv\u001b[1;34m(filepath_or_buffer, sep, delimiter, header, names, index_col, usecols, squeeze, prefix, mangle_dupe_cols, dtype, engine, converters, true_values, false_values, skipinitialspace, skiprows, skipfooter, nrows, na_values, keep_default_na, na_filter, verbose, skip_blank_lines, parse_dates, infer_datetime_format, keep_date_col, date_parser, dayfirst, cache_dates, iterator, chunksize, compression, thousands, decimal, lineterminator, quotechar, quoting, doublequote, escapechar, comment, encoding, encoding_errors, dialect, error_bad_lines, warn_bad_lines, on_bad_lines, delim_whitespace, low_memory, memory_map, float_precision, storage_options)\u001b[0m\n\u001b[0;32m    665\u001b[0m kwds_defaults \u001b[38;5;241m=\u001b[39m _refine_defaults_read(\n\u001b[0;32m    666\u001b[0m     dialect,\n\u001b[0;32m    667\u001b[0m     delimiter,\n\u001b[1;32m   (...)\u001b[0m\n\u001b[0;32m    676\u001b[0m     defaults\u001b[38;5;241m=\u001b[39m{\u001b[38;5;124m\"\u001b[39m\u001b[38;5;124mdelimiter\u001b[39m\u001b[38;5;124m\"\u001b[39m: \u001b[38;5;124m\"\u001b[39m\u001b[38;5;124m,\u001b[39m\u001b[38;5;124m\"\u001b[39m},\n\u001b[0;32m    677\u001b[0m )\n\u001b[0;32m    678\u001b[0m kwds\u001b[38;5;241m.\u001b[39mupdate(kwds_defaults)\n\u001b[1;32m--> 680\u001b[0m \u001b[38;5;28;01mreturn\u001b[39;00m \u001b[43m_read\u001b[49m\u001b[43m(\u001b[49m\u001b[43mfilepath_or_buffer\u001b[49m\u001b[43m,\u001b[49m\u001b[43m \u001b[49m\u001b[43mkwds\u001b[49m\u001b[43m)\u001b[49m\n",
      "File \u001b[1;32mC:\\ProgramData\\Anaconda3\\lib\\site-packages\\pandas\\io\\parsers\\readers.py:575\u001b[0m, in \u001b[0;36m_read\u001b[1;34m(filepath_or_buffer, kwds)\u001b[0m\n\u001b[0;32m    572\u001b[0m _validate_names(kwds\u001b[38;5;241m.\u001b[39mget(\u001b[38;5;124m\"\u001b[39m\u001b[38;5;124mnames\u001b[39m\u001b[38;5;124m\"\u001b[39m, \u001b[38;5;28;01mNone\u001b[39;00m))\n\u001b[0;32m    574\u001b[0m \u001b[38;5;66;03m# Create the parser.\u001b[39;00m\n\u001b[1;32m--> 575\u001b[0m parser \u001b[38;5;241m=\u001b[39m TextFileReader(filepath_or_buffer, \u001b[38;5;241m*\u001b[39m\u001b[38;5;241m*\u001b[39mkwds)\n\u001b[0;32m    577\u001b[0m \u001b[38;5;28;01mif\u001b[39;00m chunksize \u001b[38;5;129;01mor\u001b[39;00m iterator:\n\u001b[0;32m    578\u001b[0m     \u001b[38;5;28;01mreturn\u001b[39;00m parser\n",
      "File \u001b[1;32mC:\\ProgramData\\Anaconda3\\lib\\site-packages\\pandas\\io\\parsers\\readers.py:933\u001b[0m, in \u001b[0;36mTextFileReader.__init__\u001b[1;34m(self, f, engine, **kwds)\u001b[0m\n\u001b[0;32m    930\u001b[0m     \u001b[38;5;28mself\u001b[39m\u001b[38;5;241m.\u001b[39moptions[\u001b[38;5;124m\"\u001b[39m\u001b[38;5;124mhas_index_names\u001b[39m\u001b[38;5;124m\"\u001b[39m] \u001b[38;5;241m=\u001b[39m kwds[\u001b[38;5;124m\"\u001b[39m\u001b[38;5;124mhas_index_names\u001b[39m\u001b[38;5;124m\"\u001b[39m]\n\u001b[0;32m    932\u001b[0m \u001b[38;5;28mself\u001b[39m\u001b[38;5;241m.\u001b[39mhandles: IOHandles \u001b[38;5;241m|\u001b[39m \u001b[38;5;28;01mNone\u001b[39;00m \u001b[38;5;241m=\u001b[39m \u001b[38;5;28;01mNone\u001b[39;00m\n\u001b[1;32m--> 933\u001b[0m \u001b[38;5;28mself\u001b[39m\u001b[38;5;241m.\u001b[39m_engine \u001b[38;5;241m=\u001b[39m \u001b[38;5;28;43mself\u001b[39;49m\u001b[38;5;241;43m.\u001b[39;49m\u001b[43m_make_engine\u001b[49m\u001b[43m(\u001b[49m\u001b[43mf\u001b[49m\u001b[43m,\u001b[49m\u001b[43m \u001b[49m\u001b[38;5;28;43mself\u001b[39;49m\u001b[38;5;241;43m.\u001b[39;49m\u001b[43mengine\u001b[49m\u001b[43m)\u001b[49m\n",
      "File \u001b[1;32mC:\\ProgramData\\Anaconda3\\lib\\site-packages\\pandas\\io\\parsers\\readers.py:1217\u001b[0m, in \u001b[0;36mTextFileReader._make_engine\u001b[1;34m(self, f, engine)\u001b[0m\n\u001b[0;32m   1213\u001b[0m     mode \u001b[38;5;241m=\u001b[39m \u001b[38;5;124m\"\u001b[39m\u001b[38;5;124mrb\u001b[39m\u001b[38;5;124m\"\u001b[39m\n\u001b[0;32m   1214\u001b[0m \u001b[38;5;66;03m# error: No overload variant of \"get_handle\" matches argument types\u001b[39;00m\n\u001b[0;32m   1215\u001b[0m \u001b[38;5;66;03m# \"Union[str, PathLike[str], ReadCsvBuffer[bytes], ReadCsvBuffer[str]]\"\u001b[39;00m\n\u001b[0;32m   1216\u001b[0m \u001b[38;5;66;03m# , \"str\", \"bool\", \"Any\", \"Any\", \"Any\", \"Any\", \"Any\"\u001b[39;00m\n\u001b[1;32m-> 1217\u001b[0m \u001b[38;5;28mself\u001b[39m\u001b[38;5;241m.\u001b[39mhandles \u001b[38;5;241m=\u001b[39m \u001b[43mget_handle\u001b[49m\u001b[43m(\u001b[49m\u001b[43m  \u001b[49m\u001b[38;5;66;43;03m# type: ignore[call-overload]\u001b[39;49;00m\n\u001b[0;32m   1218\u001b[0m \u001b[43m    \u001b[49m\u001b[43mf\u001b[49m\u001b[43m,\u001b[49m\n\u001b[0;32m   1219\u001b[0m \u001b[43m    \u001b[49m\u001b[43mmode\u001b[49m\u001b[43m,\u001b[49m\n\u001b[0;32m   1220\u001b[0m \u001b[43m    \u001b[49m\u001b[43mencoding\u001b[49m\u001b[38;5;241;43m=\u001b[39;49m\u001b[38;5;28;43mself\u001b[39;49m\u001b[38;5;241;43m.\u001b[39;49m\u001b[43moptions\u001b[49m\u001b[38;5;241;43m.\u001b[39;49m\u001b[43mget\u001b[49m\u001b[43m(\u001b[49m\u001b[38;5;124;43m\"\u001b[39;49m\u001b[38;5;124;43mencoding\u001b[39;49m\u001b[38;5;124;43m\"\u001b[39;49m\u001b[43m,\u001b[49m\u001b[43m \u001b[49m\u001b[38;5;28;43;01mNone\u001b[39;49;00m\u001b[43m)\u001b[49m\u001b[43m,\u001b[49m\n\u001b[0;32m   1221\u001b[0m \u001b[43m    \u001b[49m\u001b[43mcompression\u001b[49m\u001b[38;5;241;43m=\u001b[39;49m\u001b[38;5;28;43mself\u001b[39;49m\u001b[38;5;241;43m.\u001b[39;49m\u001b[43moptions\u001b[49m\u001b[38;5;241;43m.\u001b[39;49m\u001b[43mget\u001b[49m\u001b[43m(\u001b[49m\u001b[38;5;124;43m\"\u001b[39;49m\u001b[38;5;124;43mcompression\u001b[39;49m\u001b[38;5;124;43m\"\u001b[39;49m\u001b[43m,\u001b[49m\u001b[43m \u001b[49m\u001b[38;5;28;43;01mNone\u001b[39;49;00m\u001b[43m)\u001b[49m\u001b[43m,\u001b[49m\n\u001b[0;32m   1222\u001b[0m \u001b[43m    \u001b[49m\u001b[43mmemory_map\u001b[49m\u001b[38;5;241;43m=\u001b[39;49m\u001b[38;5;28;43mself\u001b[39;49m\u001b[38;5;241;43m.\u001b[39;49m\u001b[43moptions\u001b[49m\u001b[38;5;241;43m.\u001b[39;49m\u001b[43mget\u001b[49m\u001b[43m(\u001b[49m\u001b[38;5;124;43m\"\u001b[39;49m\u001b[38;5;124;43mmemory_map\u001b[39;49m\u001b[38;5;124;43m\"\u001b[39;49m\u001b[43m,\u001b[49m\u001b[43m \u001b[49m\u001b[38;5;28;43;01mFalse\u001b[39;49;00m\u001b[43m)\u001b[49m\u001b[43m,\u001b[49m\n\u001b[0;32m   1223\u001b[0m \u001b[43m    \u001b[49m\u001b[43mis_text\u001b[49m\u001b[38;5;241;43m=\u001b[39;49m\u001b[43mis_text\u001b[49m\u001b[43m,\u001b[49m\n\u001b[0;32m   1224\u001b[0m \u001b[43m    \u001b[49m\u001b[43merrors\u001b[49m\u001b[38;5;241;43m=\u001b[39;49m\u001b[38;5;28;43mself\u001b[39;49m\u001b[38;5;241;43m.\u001b[39;49m\u001b[43moptions\u001b[49m\u001b[38;5;241;43m.\u001b[39;49m\u001b[43mget\u001b[49m\u001b[43m(\u001b[49m\u001b[38;5;124;43m\"\u001b[39;49m\u001b[38;5;124;43mencoding_errors\u001b[39;49m\u001b[38;5;124;43m\"\u001b[39;49m\u001b[43m,\u001b[49m\u001b[43m \u001b[49m\u001b[38;5;124;43m\"\u001b[39;49m\u001b[38;5;124;43mstrict\u001b[39;49m\u001b[38;5;124;43m\"\u001b[39;49m\u001b[43m)\u001b[49m\u001b[43m,\u001b[49m\n\u001b[0;32m   1225\u001b[0m \u001b[43m    \u001b[49m\u001b[43mstorage_options\u001b[49m\u001b[38;5;241;43m=\u001b[39;49m\u001b[38;5;28;43mself\u001b[39;49m\u001b[38;5;241;43m.\u001b[39;49m\u001b[43moptions\u001b[49m\u001b[38;5;241;43m.\u001b[39;49m\u001b[43mget\u001b[49m\u001b[43m(\u001b[49m\u001b[38;5;124;43m\"\u001b[39;49m\u001b[38;5;124;43mstorage_options\u001b[39;49m\u001b[38;5;124;43m\"\u001b[39;49m\u001b[43m,\u001b[49m\u001b[43m \u001b[49m\u001b[38;5;28;43;01mNone\u001b[39;49;00m\u001b[43m)\u001b[49m\u001b[43m,\u001b[49m\n\u001b[0;32m   1226\u001b[0m \u001b[43m\u001b[49m\u001b[43m)\u001b[49m\n\u001b[0;32m   1227\u001b[0m \u001b[38;5;28;01massert\u001b[39;00m \u001b[38;5;28mself\u001b[39m\u001b[38;5;241m.\u001b[39mhandles \u001b[38;5;129;01mis\u001b[39;00m \u001b[38;5;129;01mnot\u001b[39;00m \u001b[38;5;28;01mNone\u001b[39;00m\n\u001b[0;32m   1228\u001b[0m f \u001b[38;5;241m=\u001b[39m \u001b[38;5;28mself\u001b[39m\u001b[38;5;241m.\u001b[39mhandles\u001b[38;5;241m.\u001b[39mhandle\n",
      "File \u001b[1;32mC:\\ProgramData\\Anaconda3\\lib\\site-packages\\pandas\\io\\common.py:789\u001b[0m, in \u001b[0;36mget_handle\u001b[1;34m(path_or_buf, mode, encoding, compression, memory_map, is_text, errors, storage_options)\u001b[0m\n\u001b[0;32m    784\u001b[0m \u001b[38;5;28;01melif\u001b[39;00m \u001b[38;5;28misinstance\u001b[39m(handle, \u001b[38;5;28mstr\u001b[39m):\n\u001b[0;32m    785\u001b[0m     \u001b[38;5;66;03m# Check whether the filename is to be opened in binary mode.\u001b[39;00m\n\u001b[0;32m    786\u001b[0m     \u001b[38;5;66;03m# Binary mode does not support 'encoding' and 'newline'.\u001b[39;00m\n\u001b[0;32m    787\u001b[0m     \u001b[38;5;28;01mif\u001b[39;00m ioargs\u001b[38;5;241m.\u001b[39mencoding \u001b[38;5;129;01mand\u001b[39;00m \u001b[38;5;124m\"\u001b[39m\u001b[38;5;124mb\u001b[39m\u001b[38;5;124m\"\u001b[39m \u001b[38;5;129;01mnot\u001b[39;00m \u001b[38;5;129;01min\u001b[39;00m ioargs\u001b[38;5;241m.\u001b[39mmode:\n\u001b[0;32m    788\u001b[0m         \u001b[38;5;66;03m# Encoding\u001b[39;00m\n\u001b[1;32m--> 789\u001b[0m         handle \u001b[38;5;241m=\u001b[39m \u001b[38;5;28;43mopen\u001b[39;49m\u001b[43m(\u001b[49m\n\u001b[0;32m    790\u001b[0m \u001b[43m            \u001b[49m\u001b[43mhandle\u001b[49m\u001b[43m,\u001b[49m\n\u001b[0;32m    791\u001b[0m \u001b[43m            \u001b[49m\u001b[43mioargs\u001b[49m\u001b[38;5;241;43m.\u001b[39;49m\u001b[43mmode\u001b[49m\u001b[43m,\u001b[49m\n\u001b[0;32m    792\u001b[0m \u001b[43m            \u001b[49m\u001b[43mencoding\u001b[49m\u001b[38;5;241;43m=\u001b[39;49m\u001b[43mioargs\u001b[49m\u001b[38;5;241;43m.\u001b[39;49m\u001b[43mencoding\u001b[49m\u001b[43m,\u001b[49m\n\u001b[0;32m    793\u001b[0m \u001b[43m            \u001b[49m\u001b[43merrors\u001b[49m\u001b[38;5;241;43m=\u001b[39;49m\u001b[43merrors\u001b[49m\u001b[43m,\u001b[49m\n\u001b[0;32m    794\u001b[0m \u001b[43m            \u001b[49m\u001b[43mnewline\u001b[49m\u001b[38;5;241;43m=\u001b[39;49m\u001b[38;5;124;43m\"\u001b[39;49m\u001b[38;5;124;43m\"\u001b[39;49m\u001b[43m,\u001b[49m\n\u001b[0;32m    795\u001b[0m \u001b[43m        \u001b[49m\u001b[43m)\u001b[49m\n\u001b[0;32m    796\u001b[0m     \u001b[38;5;28;01melse\u001b[39;00m:\n\u001b[0;32m    797\u001b[0m         \u001b[38;5;66;03m# Binary mode\u001b[39;00m\n\u001b[0;32m    798\u001b[0m         handle \u001b[38;5;241m=\u001b[39m \u001b[38;5;28mopen\u001b[39m(handle, ioargs\u001b[38;5;241m.\u001b[39mmode)\n",
      "\u001b[1;31mFileNotFoundError\u001b[0m: [Errno 2] No such file or directory: 'C:\\\\Users\\\\lenovo\\\\Downloads\\\\Q7 (2).csv'"
     ]
    }
   ],
   "source": [
    "data=pd.read_csv('C:\\\\Users\\\\lenovo\\\\Downloads\\\\Q7 (2).csv')\n",
    "data"
   ]
  },
  {
   "cell_type": "code",
   "execution_count": null,
   "id": "88686f59",
   "metadata": {},
   "outputs": [],
   "source": [
    "data.head()"
   ]
  },
  {
   "cell_type": "code",
   "execution_count": null,
   "id": "095e747e",
   "metadata": {},
   "outputs": [],
   "source": [
    "data.tail()"
   ]
  },
  {
   "cell_type": "code",
   "execution_count": null,
   "id": "fb4126a0",
   "metadata": {},
   "outputs": [],
   "source": [
    "data.mean()"
   ]
  },
  {
   "cell_type": "code",
   "execution_count": null,
   "id": "270f5210",
   "metadata": {},
   "outputs": [],
   "source": [
    "data.median()"
   ]
  },
  {
   "cell_type": "code",
   "execution_count": null,
   "id": "cf7e9e59",
   "metadata": {},
   "outputs": [],
   "source": [
    "data.mode()"
   ]
  },
  {
   "cell_type": "code",
   "execution_count": null,
   "id": "927858b0",
   "metadata": {},
   "outputs": [],
   "source": [
    "data.var()"
   ]
  },
  {
   "cell_type": "code",
   "execution_count": null,
   "id": "3d9d04f5",
   "metadata": {},
   "outputs": [],
   "source": [
    "data.std()"
   ]
  },
  {
   "cell_type": "code",
   "execution_count": null,
   "id": "dc98e637",
   "metadata": {},
   "outputs": [],
   "source": [
    "point_range=data['Points'].max()-data['Points'].min()\n",
    "point_range"
   ]
  },
  {
   "cell_type": "code",
   "execution_count": null,
   "id": "8031af8a",
   "metadata": {},
   "outputs": [],
   "source": [
    "score_range=data['Score'].max()-data['Score'].min()\n",
    "score_range"
   ]
  },
  {
   "cell_type": "code",
   "execution_count": null,
   "id": "c1c169be",
   "metadata": {},
   "outputs": [],
   "source": [
    "weigh_range=data['Weigh'].max()-data['Weigh'].min()\n",
    "weigh_range"
   ]
  },
  {
   "cell_type": "code",
   "execution_count": null,
   "id": "668443e9",
   "metadata": {},
   "outputs": [],
   "source": [
    "import pandas as pd \n",
    "import numpy as np "
   ]
  },
  {
   "cell_type": "code",
   "execution_count": null,
   "id": "514095bc",
   "metadata": {},
   "outputs": [],
   "source": [
    "data1 = pd.read_csv ('C:\\\\Users\\\\lenovo\\\\Downloads\\\\Q9_a (1).csv')\n",
    "data1"
   ]
  },
  {
   "cell_type": "code",
   "execution_count": null,
   "id": "370215dc",
   "metadata": {},
   "outputs": [],
   "source": [
    "data1.head()"
   ]
  },
  {
   "cell_type": "code",
   "execution_count": null,
   "id": "3b3475ce",
   "metadata": {},
   "outputs": [],
   "source": [
    "print = ('The skewness of speed:',data1['speed'].skew())\n",
    "print"
   ]
  },
  {
   "cell_type": "code",
   "execution_count": null,
   "id": "a5267756",
   "metadata": {},
   "outputs": [],
   "source": [
    "print = ('The kurtosis of distance:',data1['dist'].kurtosis())\n",
    "print"
   ]
  },
  {
   "cell_type": "code",
   "execution_count": null,
   "id": "2148ac70",
   "metadata": {},
   "outputs": [],
   "source": [
    "print = ('The skewness of speed:',data1['speed'].skew())\n",
    "print"
   ]
  },
  {
   "cell_type": "code",
   "execution_count": null,
   "id": "aa56c40a",
   "metadata": {},
   "outputs": [],
   "source": [
    "print = ('The kurtosis of distance:',data1['dist'].kurtosis())\n",
    "print"
   ]
  },
  {
   "cell_type": "code",
   "execution_count": null,
   "id": "f053c3bf",
   "metadata": {},
   "outputs": [],
   "source": [
    "import pandas as pd"
   ]
  },
  {
   "cell_type": "code",
   "execution_count": null,
   "id": "91ed11aa",
   "metadata": {},
   "outputs": [],
   "source": [
    "data2 = pd.read_csv('C:\\\\Users\\\\lenovo\\\\Downloads\\\\Q9_b.csv')\n",
    "data2"
   ]
  },
  {
   "cell_type": "code",
   "execution_count": null,
   "id": "99331161",
   "metadata": {},
   "outputs": [],
   "source": [
    "import seaborn as sns"
   ]
  },
  {
   "cell_type": "code",
   "execution_count": null,
   "id": "05b1aec7",
   "metadata": {},
   "outputs": [],
   "source": [
    "sns.distplot(data2['SP'])"
   ]
  },
  {
   "cell_type": "code",
   "execution_count": null,
   "id": "57ea072d",
   "metadata": {},
   "outputs": [],
   "source": [
    "data2['SP'].skew()"
   ]
  },
  {
   "cell_type": "code",
   "execution_count": null,
   "id": "537ab620",
   "metadata": {},
   "outputs": [],
   "source": [
    "data2['SP'].kurt()"
   ]
  },
  {
   "cell_type": "code",
   "execution_count": null,
   "id": "afe2fc04",
   "metadata": {},
   "outputs": [],
   "source": [
    "sns.distplot(data2['WT'])"
   ]
  },
  {
   "cell_type": "code",
   "execution_count": null,
   "id": "94386b2f",
   "metadata": {},
   "outputs": [],
   "source": [
    "data2['WT'].skew()"
   ]
  },
  {
   "cell_type": "code",
   "execution_count": null,
   "id": "772274e3",
   "metadata": {},
   "outputs": [],
   "source": [
    "data2['WT'].kurt()"
   ]
  },
  {
   "cell_type": "markdown",
   "id": "af370516",
   "metadata": {},
   "source": [
    "## q12"
   ]
  },
  {
   "cell_type": "code",
   "execution_count": null,
   "id": "7eef0795",
   "metadata": {},
   "outputs": [],
   "source": [
    "import pandas as pd"
   ]
  },
  {
   "cell_type": "code",
   "execution_count": null,
   "id": "8a89e2fb",
   "metadata": {},
   "outputs": [],
   "source": [
    "student_marks=pd.DataFrame([34,36,36,38,38,39,39,40,40,41,41,41,41,42,42,45,49,56]) "
   ]
  },
  {
   "cell_type": "code",
   "execution_count": null,
   "id": "5d1910df",
   "metadata": {},
   "outputs": [],
   "source": [
    "student_marks.mean()"
   ]
  },
  {
   "cell_type": "code",
   "execution_count": null,
   "id": "04c2b2ad",
   "metadata": {},
   "outputs": [],
   "source": [
    "student_marks.median()"
   ]
  },
  {
   "cell_type": "code",
   "execution_count": null,
   "id": "ab341ef3",
   "metadata": {},
   "outputs": [],
   "source": [
    "student_marks.var()"
   ]
  },
  {
   "cell_type": "code",
   "execution_count": null,
   "id": "d6149222",
   "metadata": {},
   "outputs": [],
   "source": [
    "student_marks.std()"
   ]
  },
  {
   "cell_type": "markdown",
   "id": "5ffabc3c",
   "metadata": {},
   "source": [
    "# Q21"
   ]
  },
  {
   "cell_type": "code",
   "execution_count": null,
   "id": "455d5b43",
   "metadata": {},
   "outputs": [],
   "source": [
    "import pandas as pd \n",
    "import numpy as np"
   ]
  },
  {
   "cell_type": "code",
   "execution_count": null,
   "id": "0d6ab177",
   "metadata": {},
   "outputs": [],
   "source": [
    "Data = pd.read_csv('C:\\\\Users\\\\lenovo\\\\Downloads\\\\Cars (4).csv')\n",
    "print(Data)"
   ]
  },
  {
   "cell_type": "code",
   "execution_count": null,
   "id": "681e2973",
   "metadata": {},
   "outputs": [],
   "source": [
    "data.head()"
   ]
  },
  {
   "cell_type": "code",
   "execution_count": null,
   "id": "93345c30",
   "metadata": {},
   "outputs": [],
   "source": [
    "data.tail()"
   ]
  },
  {
   "cell_type": "code",
   "execution_count": null,
   "id": "9b9136e9",
   "metadata": {},
   "outputs": [],
   "source": [
    "#print(Cars['MPG'].mean())\n",
    "#print(Cars['MPG'].median())\n",
    "#print(Cars['MPG'].mode())\n",
    "#print(Cars['MPG'].kurtosis())\n",
    "#sns.distplot(Cars['MPG'])"
   ]
  },
  {
   "cell_type": "code",
   "execution_count": null,
   "id": "978a639b",
   "metadata": {},
   "outputs": [],
   "source": [
    "data['MPG'.mean()]"
   ]
  },
  {
   "cell_type": "markdown",
   "id": "e9e942d4",
   "metadata": {},
   "source": [
    "# Q12"
   ]
  },
  {
   "cell_type": "code",
   "execution_count": null,
   "id": "62bc83cd",
   "metadata": {},
   "outputs": [],
   "source": [
    "import pandas as pd "
   ]
  },
  {
   "cell_type": "code",
   "execution_count": null,
   "id": "0083fc13",
   "metadata": {},
   "outputs": [],
   "source": [
    "student_marks-pd.DataFrame([34,36,36,38,38,39,39,40,40,41,41,41,41,42,42,45,49,56])"
   ]
  },
  {
   "cell_type": "code",
   "execution_count": null,
   "id": "46d9ee16",
   "metadata": {},
   "outputs": [],
   "source": [
    "student_marks.mean()"
   ]
  },
  {
   "cell_type": "code",
   "execution_count": null,
   "id": "ffe3d959",
   "metadata": {},
   "outputs": [],
   "source": [
    "student_marks.median()"
   ]
  },
  {
   "cell_type": "code",
   "execution_count": null,
   "id": "84d3dc6d",
   "metadata": {},
   "outputs": [],
   "source": [
    "student_marks.var()"
   ]
  },
  {
   "cell_type": "code",
   "execution_count": null,
   "id": "c8ef50a1",
   "metadata": {},
   "outputs": [],
   "source": [
    "student_marks.std()"
   ]
  },
  {
   "cell_type": "markdown",
   "id": "3803dcab",
   "metadata": {},
   "source": [
    "# Q20"
   ]
  },
  {
   "cell_type": "code",
   "execution_count": null,
   "id": "c39f0cb6",
   "metadata": {},
   "outputs": [],
   "source": [
    "import pandas as pd\n",
    "import numpy as np\n"
   ]
  },
  {
   "cell_type": "code",
   "execution_count": null,
   "id": "c53b58bf",
   "metadata": {},
   "outputs": [],
   "source": [
    "Cars = pd.read_csv('C:\\\\Users\\\\lenovo\\\\Downloads\\\\Cars (5).csv')\n",
    "Cars"
   ]
  },
  {
   "cell_type": "code",
   "execution_count": null,
   "id": "4a10c279",
   "metadata": {},
   "outputs": [],
   "source": [
    "Cars['MPG'].mean()"
   ]
  },
  {
   "cell_type": "code",
   "execution_count": null,
   "id": "0a10330a",
   "metadata": {},
   "outputs": [],
   "source": [
    "Cars['MPG'].std()"
   ]
  },
  {
   "cell_type": "code",
   "execution_count": null,
   "id": "7abc5aec",
   "metadata": {},
   "outputs": [],
   "source": [
    "#p(MPG>38)\n",
    "1-stats.norm.cdf(x=38,loc=34.42,scale=9.13)"
   ]
  },
  {
   "cell_type": "code",
   "execution_count": null,
   "id": "3bde00c6",
   "metadata": {},
   "outputs": [],
   "source": [
    "#p(MPG<40)\n",
    "stats.norm.cdf(x=40,loc=34.42,scale=9.13)"
   ]
  },
  {
   "cell_type": "code",
   "execution_count": null,
   "id": "96dfcb94",
   "metadata": {},
   "outputs": [],
   "source": [
    "#p(MPG<50)\n",
    "stats.norm.cdf(x=50,loc=34.42,scale=9.13)-stats.norm.cdf(x=20,loc=34.42,scale=9.13)"
   ]
  },
  {
   "cell_type": "markdown",
   "id": "8bba291d",
   "metadata": {},
   "source": [
    "# Q21"
   ]
  },
  {
   "cell_type": "code",
   "execution_count": null,
   "id": "33ffd551",
   "metadata": {},
   "outputs": [],
   "source": [
    "import pandas as pd\n",
    "import numpy as np\n",
    "import seaborn as sns\n",
    "import warnings\n",
    "warnings.filterwarnings('ignore')"
   ]
  },
  {
   "cell_type": "code",
   "execution_count": null,
   "id": "4b579749",
   "metadata": {},
   "outputs": [],
   "source": [
    "Cars=pd.read_csv('C:\\\\Users\\\\lenovo\\\\Downloads\\\\Cars (5).csv')\n",
    "Cars"
   ]
  },
  {
   "cell_type": "code",
   "execution_count": null,
   "id": "368266e7",
   "metadata": {},
   "outputs": [],
   "source": [
    "Cars.head()"
   ]
  },
  {
   "cell_type": "code",
   "execution_count": null,
   "id": "0ab74e47",
   "metadata": {},
   "outputs": [],
   "source": [
    "Cars.tail()"
   ]
  },
  {
   "cell_type": "code",
   "execution_count": null,
   "id": "c88e49bc",
   "metadata": {},
   "outputs": [],
   "source": [
    "print(Cars['MPG'].mean())\n",
    "print(Cars['MPG'].median())\n",
    "print(Cars['MPG'].mode())\n",
    "print(Cars['MPG'].kurtosis())\n",
    "sns.distplot(Cars['MPG'])"
   ]
  },
  {
   "cell_type": "markdown",
   "id": "e057db61",
   "metadata": {},
   "source": [
    "# B)"
   ]
  },
  {
   "cell_type": "code",
   "execution_count": null,
   "id": "f1c854ab",
   "metadata": {},
   "outputs": [],
   "source": [
    "WC = pd.read_csv('C:\\\\Users\\\\lenovo\\\\Downloads\\\\wc-at (3).csv')\n",
    "WC"
   ]
  },
  {
   "cell_type": "code",
   "execution_count": null,
   "id": "797c9461",
   "metadata": {},
   "outputs": [],
   "source": [
    "print(WC['Waist'].mean())\n",
    "print(WC['Waist'].median())\n",
    "print(WC['Waist'].mode())\n",
    "print(WC['Waist'].kurtosis())\n",
    "sns.distplot(WC['Waist'])"
   ]
  },
  {
   "cell_type": "markdown",
   "id": "875d700a",
   "metadata": {},
   "source": [
    "# Q24"
   ]
  },
  {
   "cell_type": "code",
   "execution_count": null,
   "id": "2fd88b6d",
   "metadata": {},
   "outputs": [],
   "source": [
    "import pandas as pd\n",
    "import numpy as np\n",
    "from scipy.stats import t\n",
    "import statistics as stats \n",
    "from math import sqrt"
   ]
  },
  {
   "cell_type": "code",
   "execution_count": null,
   "id": "6398229b",
   "metadata": {},
   "outputs": [],
   "source": [
    "z = (260-270)/(90/sqrt(18))\n",
    "z"
   ]
  },
  {
   "cell_type": "code",
   "execution_count": null,
   "id": "0ddc18f3",
   "metadata": {},
   "outputs": [],
   "source": [
    "y=t.cdf(z,df=17)\n",
    "y"
   ]
  },
  {
   "cell_type": "code",
   "execution_count": null,
   "id": "d205ea0b",
   "metadata": {},
   "outputs": [],
   "source": [
    "y*100"
   ]
  },
  {
   "cell_type": "code",
   "execution_count": null,
   "id": "bd3ef0c3",
   "metadata": {},
   "outputs": [],
   "source": [
    "round(y*100,3)"
   ]
  },
  {
   "cell_type": "markdown",
   "id": "bf415b87",
   "metadata": {},
   "source": [
    "# Q20"
   ]
  },
  {
   "cell_type": "code",
   "execution_count": null,
   "id": "0c15d7c7",
   "metadata": {},
   "outputs": [],
   "source": [
    "import pandas as pd \n",
    "import numpy as np\n",
    "import statistics as stats\n",
    "import scipy.stats as stats"
   ]
  },
  {
   "cell_type": "code",
   "execution_count": null,
   "id": "fc6576a2",
   "metadata": {},
   "outputs": [],
   "source": [
    "cars = pd.read_csv('C:\\\\Users\\\\lenovo\\\\Downloads\\\\Cars.csv')\n",
    "cars"
   ]
  },
  {
   "cell_type": "code",
   "execution_count": null,
   "id": "0a6c695f",
   "metadata": {},
   "outputs": [],
   "source": [
    "cars ['MPG'].mean()"
   ]
  },
  {
   "cell_type": "code",
   "execution_count": null,
   "id": "ff06c70c",
   "metadata": {},
   "outputs": [],
   "source": [
    "cars['MPG'].std()"
   ]
  },
  {
   "cell_type": "code",
   "execution_count": null,
   "id": "96cde822",
   "metadata": {},
   "outputs": [],
   "source": [
    "#p(MPG>38)\n",
    "1-stats .norm.cdf(x=38,loc=34.422,scale=9.131)"
   ]
  },
  {
   "cell_type": "code",
   "execution_count": null,
   "id": "e29ae81b",
   "metadata": {},
   "outputs": [],
   "source": [
    "#p(MPG<40)\n",
    "stats.norm.cdf(x=40,loc=34.422,scale=9.131)"
   ]
  },
  {
   "cell_type": "code",
   "execution_count": null,
   "id": "c393365b",
   "metadata": {},
   "outputs": [],
   "source": [
    "#p(20<MPG<50)\n",
    "stats.norm.cdf(x=50, loc=34.42, scale=9.13)-stats.norm.cdf(x=20, loc=34.42, scale=9.13)"
   ]
  },
  {
   "cell_type": "markdown",
   "id": "aa2305ef",
   "metadata": {},
   "source": [
    "# Q22"
   ]
  },
  {
   "cell_type": "code",
   "execution_count": null,
   "id": "1456eb2b",
   "metadata": {},
   "outputs": [],
   "source": [
    "import pandas as pd \n",
    "import numpy as np\n",
    "import statistics as stats\n",
    "import scipy.stats as stats"
   ]
  },
  {
   "cell_type": "code",
   "execution_count": null,
   "id": "cebe5807",
   "metadata": {},
   "outputs": [],
   "source": [
    "# Z-score of 90% confidence interval\n",
    "#for one tail:\n",
    "print(stats.norm.ppf(0.90))\n",
    "#for two tail:\n",
    "print(stats.norm.ppf(0.95))\n",
    "print(print,print)"
   ]
  },
  {
   "cell_type": "code",
   "execution_count": null,
   "id": "8746d660",
   "metadata": {},
   "outputs": [],
   "source": [
    "# Z-score of 94% confidence interval \n",
    "#for one tail\n",
    "print(stats.norm.ppf(0.94))\n",
    "#for two tail\n",
    "print(stats.norm.ppf(0.97))\n",
    "print(print,print)"
   ]
  },
  {
   "cell_type": "code",
   "execution_count": null,
   "id": "0c599585",
   "metadata": {},
   "outputs": [],
   "source": [
    "# Z-Score of 60%confidence interval\n",
    "#for one tail:\n",
    "print1=(stats.norm.ppf(0.60))\n",
    "#for two tail:\n",
    "print2=(stats.norm.ppf(0.85))\n",
    "print(print1,print2)"
   ]
  },
  {
   "cell_type": "markdown",
   "id": "11b2f32d",
   "metadata": {},
   "source": [
    "# Q23"
   ]
  },
  {
   "cell_type": "code",
   "execution_count": null,
   "id": "05a38dc4",
   "metadata": {},
   "outputs": [],
   "source": [
    "import pandas as pd \n",
    "import numpy as np\n",
    "import statistics as stats\n",
    "import scipy.stats as stats"
   ]
  },
  {
   "cell_type": "code",
   "execution_count": null,
   "id": "56c8e5f6",
   "metadata": {},
   "outputs": [],
   "source": [
    "#t score of 95%\n",
    "#for 1st tail:\n",
    "print(stats.t.ppf(0.95,df=24))\n",
    "#for 2nd tail:\n",
    "print(stats.t.ppf(0.957,df=24))"
   ]
  },
  {
   "cell_type": "code",
   "execution_count": null,
   "id": "e411a635",
   "metadata": {},
   "outputs": [],
   "source": [
    "#t score of 96%\n",
    "#for 1st tail:\n",
    "print(stats.t.ppf(0.96,df=24))\n",
    "#for 2st tail:\n",
    "print(stats.t.ppf(0.98,df=24))"
   ]
  },
  {
   "cell_type": "code",
   "execution_count": null,
   "id": "68b36cdd",
   "metadata": {},
   "outputs": [],
   "source": [
    "#t score of 99%\n",
    "#for 1st tail:\n",
    "print(stats.t.ppf(0.99,df=24))\n",
    "#for 2st tail:\n",
    "print(stats.t.ppf(0.995,df=24))"
   ]
  },
  {
   "cell_type": "code",
   "execution_count": null,
   "id": "0d47006e",
   "metadata": {},
   "outputs": [],
   "source": [
    "import pandas as pd\n",
    "import numpy as np\n",
    "#from scipy.stats import t\n",
    "import statistics as stats \n",
    "from math import sqrt"
   ]
  },
  {
   "cell_type": "code",
   "execution_count": null,
   "id": "235b2d2c",
   "metadata": {},
   "outputs": [],
   "source": [
    "Range=stats.norm.interval(0.94,loc=200,scale=30/sqrt(2000))\n",
    "print('On 94% confidence interval range is:',Range)"
   ]
  },
  {
   "cell_type": "markdown",
   "id": "68719e30",
   "metadata": {},
   "source": [
    "# Q8)"
   ]
  },
  {
   "cell_type": "code",
   "execution_count": null,
   "id": "b54a7998",
   "metadata": {},
   "outputs": [],
   "source": [
    "import pandas as pd\n",
    "import numpy as np\n",
    "from scipy.stats import t\n",
    "import statistics as stats \n",
    "from math import sqrt"
   ]
  },
  {
   "cell_type": "code",
   "execution_count": null,
   "id": "70073df2",
   "metadata": {},
   "outputs": [],
   "source": [
    "#weight of patients\n",
    "Weights = [108,110,123,134,135,145,167,187,199]\n",
    "#probability of each patients\n",
    "probability = 1/len(Weights)\n",
    "#expectation of a randomly selected patient\n",
    "expectation= probability*sum(Weights)\n",
    "print('Expected value of the Weights of that patients:',expectation)"
   ]
  },
  {
   "cell_type": "code",
   "execution_count": null,
   "id": "f7ea767f",
   "metadata": {},
   "outputs": [],
   "source": [
    "Range=stats.norm.interval(0.94,loc=200,scale=30/sqrt(2000))\n",
    "print('On 94% confidence interval range is:',Range)"
   ]
  },
  {
   "cell_type": "code",
   "execution_count": null,
   "id": "57c426dd",
   "metadata": {},
   "outputs": [],
   "source": [
    "import numpy as np\n",
    "import pandas as pd\n",
    "from scipy import stats\n",
    "from scipy.stats import norm"
   ]
  },
  {
   "cell_type": "code",
   "execution_count": null,
   "id": "418d04b7",
   "metadata": {},
   "outputs": [],
   "source": [
    "# Avg.weight of Adult in Mexico with 94% CI\n",
    "stats.norm.interval(0.94,200,30/(2000**0.5))"
   ]
  },
  {
   "cell_type": "code",
   "execution_count": null,
   "id": "e064ace3",
   "metadata": {},
   "outputs": [],
   "source": [
    "# Avg.weight of Adult in Mexico with 98% CI\n",
    "stats.norm.interval(0.98,200,30/(2000**0.5))"
   ]
  },
  {
   "cell_type": "code",
   "execution_count": null,
   "id": "6c3fbc6e",
   "metadata": {},
   "outputs": [],
   "source": [
    "# Avg.weight of Adult in Mexico with 96% CI\n",
    "stats.norm.interval(0.96,200,30/(2000**0.5))"
   ]
  },
  {
   "cell_type": "code",
   "execution_count": null,
   "id": "90746728",
   "metadata": {},
   "outputs": [],
   "source": []
  }
 ],
 "metadata": {
  "kernelspec": {
   "display_name": "Python 3 (ipykernel)",
   "language": "python",
   "name": "python3"
  },
  "language_info": {
   "codemirror_mode": {
    "name": "ipython",
    "version": 3
   },
   "file_extension": ".py",
   "mimetype": "text/x-python",
   "name": "python",
   "nbconvert_exporter": "python",
   "pygments_lexer": "ipython3",
   "version": "3.9.12"
  }
 },
 "nbformat": 4,
 "nbformat_minor": 5
}
